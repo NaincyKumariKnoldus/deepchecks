{
 "cells": [
  {
   "cell_type": "markdown",
   "id": "e0b027e7",
   "metadata": {},
   "source": [
    "# Label Ambiguity "
   ]
  },
  {
   "cell_type": "code",
   "execution_count": 1,
   "id": "9ff805f0",
   "metadata": {
    "execution": {
     "iopub.execute_input": "2022-01-24T00:54:32.343447Z",
     "iopub.status.busy": "2022-01-24T00:54:32.342758Z",
     "iopub.status.idle": "2022-01-24T00:54:34.072053Z",
     "shell.execute_reply": "2022-01-24T00:54:34.072421Z"
    }
   },
   "outputs": [
    {
     "name": "stderr",
     "output_type": "stream",
     "text": [
      "/home/runner/work/deepchecks/deepchecks/venv/lib/python3.9/site-packages/statsmodels/compat/pandas.py:65: FutureWarning:\n",
      "\n",
      "pandas.Int64Index is deprecated and will be removed from pandas in a future version. Use pandas.Index with the appropriate dtype instead.\n",
      "\n"
     ]
    }
   ],
   "source": [
    "from deepchecks.checks.integrity import LabelAmbiguity\n",
    "from deepchecks.base import Dataset\n",
    "import pandas as pd"
   ]
  },
  {
   "cell_type": "code",
   "execution_count": 2,
   "id": "4cb1f4da",
   "metadata": {
    "execution": {
     "iopub.execute_input": "2022-01-24T00:54:34.080709Z",
     "iopub.status.busy": "2022-01-24T00:54:34.079398Z",
     "iopub.status.idle": "2022-01-24T00:54:34.081332Z",
     "shell.execute_reply": "2022-01-24T00:54:34.081795Z"
    }
   },
   "outputs": [],
   "source": [
    "dataset = Dataset(pd.DataFrame({\"col1\":[1,2,1,2,1,2,1,2,1,2],\n",
    "                                \"col2\":[1,2,1,2,5,2,5,2,3,2],\n",
    "                                \"my_label\":[2,3,4,4,4,3,4,5,6,4]}),\n",
    "                  label=\"my_label\",\n",
    "                  label_type=\"classification_label\")\n"
   ]
  },
  {
   "cell_type": "code",
   "execution_count": 3,
   "id": "f5d3c08a",
   "metadata": {
    "execution": {
     "iopub.execute_input": "2022-01-24T00:54:34.087627Z",
     "iopub.status.busy": "2022-01-24T00:54:34.084012Z",
     "iopub.status.idle": "2022-01-24T00:54:34.319713Z",
     "shell.execute_reply": "2022-01-24T00:54:34.319311Z"
    }
   },
   "outputs": [
    {
     "name": "stderr",
     "output_type": "stream",
     "text": [
      "/home/runner/work/deepchecks/deepchecks/deepchecks/checks/integrity/label_ambiguity.py:99: FutureWarning:\n",
      "\n",
      "The frame.append method is deprecated and will be removed from pandas in a future version. Use pandas.concat instead.\n",
      "\n",
      "/home/runner/work/deepchecks/deepchecks/deepchecks/checks/integrity/label_ambiguity.py:99: FutureWarning:\n",
      "\n",
      "The frame.append method is deprecated and will be removed from pandas in a future version. Use pandas.concat instead.\n",
      "\n",
      "/home/runner/work/deepchecks/deepchecks/deepchecks/base/display_pandas.py:50: FutureWarning:\n",
      "\n",
      "this method is deprecated in favour of `Styler.to_html()`\n",
      "\n"
     ]
    },
    {
     "data": {
      "text/html": [
       "<h4>Label Ambiguity</h4><p>Find samples with multiple labels. <a href=\"https://docs.deepchecks.com/en/0.3.1/examples/checks/integrity/label_ambiguity.html?utm_source=display_output&utm_medium=referral&utm_campaign=check_link\" target=\"_blank\">Read More...</a></p><h5>Additional Outputs</h5><div>Each row in the table shows an example of a data sample and the its observed labels as found in the dataset.</div><style type=\"text/css\">\n",
       "#T_25ace table {\n",
       "  text-align: left;\n",
       "  white-space: pre-wrap;\n",
       "}\n",
       "#T_25ace thead {\n",
       "  text-align: left;\n",
       "  white-space: pre-wrap;\n",
       "}\n",
       "#T_25ace tbody {\n",
       "  text-align: left;\n",
       "  white-space: pre-wrap;\n",
       "}\n",
       "#T_25ace th {\n",
       "  text-align: left;\n",
       "  white-space: pre-wrap;\n",
       "}\n",
       "#T_25ace td {\n",
       "  text-align: left;\n",
       "  white-space: pre-wrap;\n",
       "}\n",
       "</style>\n",
       "<table id=\"T_25ace\">\n",
       "  <thead>\n",
       "    <tr>\n",
       "      <th class=\"blank level0\" >&nbsp;</th>\n",
       "      <th id=\"T_25ace_level0_col0\" class=\"col_heading level0 col0\" >col1</th>\n",
       "      <th id=\"T_25ace_level0_col1\" class=\"col_heading level0 col1\" >col2</th>\n",
       "    </tr>\n",
       "    <tr>\n",
       "      <th class=\"index_name level0\" >Observed Labels</th>\n",
       "      <th class=\"blank col0\" >&nbsp;</th>\n",
       "      <th class=\"blank col1\" >&nbsp;</th>\n",
       "    </tr>\n",
       "  </thead>\n",
       "  <tbody>\n",
       "    <tr>\n",
       "      <th id=\"T_25ace_level0_row0\" class=\"row_heading level0 row0\" >(3, 4, 5)</th>\n",
       "      <td id=\"T_25ace_row0_col0\" class=\"data row0 col0\" >2</td>\n",
       "      <td id=\"T_25ace_row0_col1\" class=\"data row0 col1\" >2</td>\n",
       "    </tr>\n",
       "    <tr>\n",
       "      <th id=\"T_25ace_level0_row1\" class=\"row_heading level0 row1\" >(2, 4)</th>\n",
       "      <td id=\"T_25ace_row1_col0\" class=\"data row1 col0\" >1</td>\n",
       "      <td id=\"T_25ace_row1_col1\" class=\"data row1 col1\" >1</td>\n",
       "    </tr>\n",
       "  </tbody>\n",
       "</table>\n"
      ]
     },
     "metadata": {},
     "output_type": "display_data"
    }
   ],
   "source": [
    "LabelAmbiguity().run(dataset)"
   ]
  },
  {
   "cell_type": "code",
   "execution_count": 4,
   "id": "b01ae6c9",
   "metadata": {
    "execution": {
     "iopub.execute_input": "2022-01-24T00:54:34.329084Z",
     "iopub.status.busy": "2022-01-24T00:54:34.325089Z",
     "iopub.status.idle": "2022-01-24T00:54:34.370996Z",
     "shell.execute_reply": "2022-01-24T00:54:34.370452Z"
    }
   },
   "outputs": [
    {
     "name": "stderr",
     "output_type": "stream",
     "text": [
      "/home/runner/work/deepchecks/deepchecks/deepchecks/checks/integrity/label_ambiguity.py:99: FutureWarning:\n",
      "\n",
      "The frame.append method is deprecated and will be removed from pandas in a future version. Use pandas.concat instead.\n",
      "\n",
      "/home/runner/work/deepchecks/deepchecks/deepchecks/checks/integrity/label_ambiguity.py:99: FutureWarning:\n",
      "\n",
      "The frame.append method is deprecated and will be removed from pandas in a future version. Use pandas.concat instead.\n",
      "\n",
      "/home/runner/work/deepchecks/deepchecks/deepchecks/base/display_pandas.py:50: FutureWarning:\n",
      "\n",
      "this method is deprecated in favour of `Styler.to_html()`\n",
      "\n"
     ]
    },
    {
     "data": {
      "text/html": [
       "<h4>Label Ambiguity</h4><p>Find samples with multiple labels. <a href=\"https://docs.deepchecks.com/en/0.3.1/examples/checks/integrity/label_ambiguity.html?utm_source=display_output&utm_medium=referral&utm_campaign=check_link\" target=\"_blank\">Read More...</a></p><h5>Additional Outputs</h5><div>Each row in the table shows an example of a data sample and the its observed labels as found in the dataset.</div><style type=\"text/css\">\n",
       "#T_555c7 table {\n",
       "  text-align: left;\n",
       "  white-space: pre-wrap;\n",
       "}\n",
       "#T_555c7 thead {\n",
       "  text-align: left;\n",
       "  white-space: pre-wrap;\n",
       "}\n",
       "#T_555c7 tbody {\n",
       "  text-align: left;\n",
       "  white-space: pre-wrap;\n",
       "}\n",
       "#T_555c7 th {\n",
       "  text-align: left;\n",
       "  white-space: pre-wrap;\n",
       "}\n",
       "#T_555c7 td {\n",
       "  text-align: left;\n",
       "  white-space: pre-wrap;\n",
       "}\n",
       "</style>\n",
       "<table id=\"T_555c7\">\n",
       "  <thead>\n",
       "    <tr>\n",
       "      <th class=\"blank level0\" >&nbsp;</th>\n",
       "      <th id=\"T_555c7_level0_col0\" class=\"col_heading level0 col0\" >col1</th>\n",
       "      <th id=\"T_555c7_level0_col1\" class=\"col_heading level0 col1\" >col2</th>\n",
       "    </tr>\n",
       "    <tr>\n",
       "      <th class=\"index_name level0\" >Observed Labels</th>\n",
       "      <th class=\"blank col0\" >&nbsp;</th>\n",
       "      <th class=\"blank col1\" >&nbsp;</th>\n",
       "    </tr>\n",
       "  </thead>\n",
       "  <tbody>\n",
       "    <tr>\n",
       "      <th id=\"T_555c7_level0_row0\" class=\"row_heading level0 row0\" >(3, 4, 5)</th>\n",
       "      <td id=\"T_555c7_row0_col0\" class=\"data row0 col0\" >2</td>\n",
       "      <td id=\"T_555c7_row0_col1\" class=\"data row0 col1\" >2</td>\n",
       "    </tr>\n",
       "  </tbody>\n",
       "</table>\n"
      ]
     },
     "metadata": {},
     "output_type": "display_data"
    }
   ],
   "source": [
    "LabelAmbiguity(n_to_show=1).run(dataset)"
   ]
  },
  {
   "cell_type": "code",
   "execution_count": 5,
   "id": "7b794ad8",
   "metadata": {
    "execution": {
     "iopub.execute_input": "2022-01-24T00:54:34.379854Z",
     "iopub.status.busy": "2022-01-24T00:54:34.376506Z",
     "iopub.status.idle": "2022-01-24T00:54:34.423474Z",
     "shell.execute_reply": "2022-01-24T00:54:34.422706Z"
    }
   },
   "outputs": [
    {
     "name": "stderr",
     "output_type": "stream",
     "text": [
      "/home/runner/work/deepchecks/deepchecks/deepchecks/checks/integrity/label_ambiguity.py:99: FutureWarning:\n",
      "\n",
      "The frame.append method is deprecated and will be removed from pandas in a future version. Use pandas.concat instead.\n",
      "\n",
      "/home/runner/work/deepchecks/deepchecks/deepchecks/checks/integrity/label_ambiguity.py:99: FutureWarning:\n",
      "\n",
      "The frame.append method is deprecated and will be removed from pandas in a future version. Use pandas.concat instead.\n",
      "\n",
      "/home/runner/work/deepchecks/deepchecks/deepchecks/base/display_pandas.py:50: FutureWarning:\n",
      "\n",
      "this method is deprecated in favour of `Styler.to_html()`\n",
      "\n"
     ]
    },
    {
     "data": {
      "text/html": [
       "<h4>Label Ambiguity</h4><p>Find samples with multiple labels. <a href=\"https://docs.deepchecks.com/en/0.3.1/examples/checks/integrity/label_ambiguity.html?utm_source=display_output&utm_medium=referral&utm_campaign=check_link\" target=\"_blank\">Read More...</a></p><h5>Additional Outputs</h5><div>Each row in the table shows an example of a data sample and the its observed labels as found in the dataset.</div><style type=\"text/css\">\n",
       "#T_d3b4d table {\n",
       "  text-align: left;\n",
       "  white-space: pre-wrap;\n",
       "}\n",
       "#T_d3b4d thead {\n",
       "  text-align: left;\n",
       "  white-space: pre-wrap;\n",
       "}\n",
       "#T_d3b4d tbody {\n",
       "  text-align: left;\n",
       "  white-space: pre-wrap;\n",
       "}\n",
       "#T_d3b4d th {\n",
       "  text-align: left;\n",
       "  white-space: pre-wrap;\n",
       "}\n",
       "#T_d3b4d td {\n",
       "  text-align: left;\n",
       "  white-space: pre-wrap;\n",
       "}\n",
       "</style>\n",
       "<table id=\"T_d3b4d\">\n",
       "  <thead>\n",
       "    <tr>\n",
       "      <th class=\"blank level0\" >&nbsp;</th>\n",
       "      <th id=\"T_d3b4d_level0_col0\" class=\"col_heading level0 col0\" >col1</th>\n",
       "    </tr>\n",
       "    <tr>\n",
       "      <th class=\"index_name level0\" >Observed Labels</th>\n",
       "      <th class=\"blank col0\" >&nbsp;</th>\n",
       "    </tr>\n",
       "  </thead>\n",
       "  <tbody>\n",
       "    <tr>\n",
       "      <th id=\"T_d3b4d_level0_row0\" class=\"row_heading level0 row0\" >(2, 4, 6)</th>\n",
       "      <td id=\"T_d3b4d_row0_col0\" class=\"data row0 col0\" >1</td>\n",
       "    </tr>\n",
       "    <tr>\n",
       "      <th id=\"T_d3b4d_level0_row1\" class=\"row_heading level0 row1\" >(3, 4, 5)</th>\n",
       "      <td id=\"T_d3b4d_row1_col0\" class=\"data row1 col0\" >2</td>\n",
       "    </tr>\n",
       "  </tbody>\n",
       "</table>\n"
      ]
     },
     "metadata": {},
     "output_type": "display_data"
    }
   ],
   "source": [
    "LabelAmbiguity(columns=['col1', 'my_label']).run(dataset)"
   ]
  },
  {
   "cell_type": "code",
   "execution_count": 6,
   "id": "fb372269",
   "metadata": {
    "execution": {
     "iopub.execute_input": "2022-01-24T00:54:34.430328Z",
     "iopub.status.busy": "2022-01-24T00:54:34.429291Z",
     "iopub.status.idle": "2022-01-24T00:54:34.430774Z",
     "shell.execute_reply": "2022-01-24T00:54:34.431081Z"
    }
   },
   "outputs": [],
   "source": [
    "clean_dataset = Dataset(pd.DataFrame({\"col1\":[1,2,1,2,1,2,1,2,1,2],\n",
    "                                      \"col2\":[1,2,1,2,5,2,5,2,3,2],\n",
    "                                      \"my_label\":[2,3,2,3,4,3,4,3,6,3]}),\n",
    "                        label=\"my_label\",\n",
    "                        label_type=\"classification_label\")\n"
   ]
  },
  {
   "cell_type": "code",
   "execution_count": 7,
   "id": "aa5f06ee",
   "metadata": {
    "execution": {
     "iopub.execute_input": "2022-01-24T00:54:34.435652Z",
     "iopub.status.busy": "2022-01-24T00:54:34.432905Z",
     "iopub.status.idle": "2022-01-24T00:54:34.441548Z",
     "shell.execute_reply": "2022-01-24T00:54:34.441067Z"
    },
    "tags": []
   },
   "outputs": [
    {
     "data": {
      "text/html": [
       "<h4>Label Ambiguity</h4><p>Find samples with multiple labels. <a href=\"https://docs.deepchecks.com/en/0.3.1/examples/checks/integrity/label_ambiguity.html?utm_source=display_output&utm_medium=referral&utm_campaign=check_link\" target=\"_blank\">Read More...</a></p><h5>Additional Outputs</h5><p><b>&#x2713;</b> Nothing found</p>"
      ]
     },
     "metadata": {},
     "output_type": "display_data"
    }
   ],
   "source": [
    "LabelAmbiguity().run(clean_dataset)"
   ]
  }
 ],
 "metadata": {
  "kernelspec": {
   "display_name": "Python 3 (ipykernel)",
   "language": "python",
   "name": "python3"
  },
  "language_info": {
   "codemirror_mode": {
    "name": "ipython",
    "version": 3
   },
   "file_extension": ".py",
   "mimetype": "text/x-python",
   "name": "python",
   "nbconvert_exporter": "python",
   "pygments_lexer": "ipython3",
   "version": "3.9.9"
  }
 },
 "nbformat": 4,
 "nbformat_minor": 5
}
